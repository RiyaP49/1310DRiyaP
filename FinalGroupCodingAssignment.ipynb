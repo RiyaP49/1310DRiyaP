{
  "cells": [
    {
      "cell_type": "markdown",
      "metadata": {
        "id": "view-in-github",
        "colab_type": "text"
      },
      "source": [
        "<a href=\"https://colab.research.google.com/github/RiyaP49/1310DRiyaP/blob/main/FinalGroupCodingAssignment.ipynb\" target=\"_parent\"><img src=\"https://colab.research.google.com/assets/colab-badge.svg\" alt=\"Open In Colab\"/></a>"
      ]
    },
    {
      "cell_type": "markdown",
      "source": [
        "Our ml model will predict which gender, race, age group, times, and borough are most suseptible to being shooting victims. This way the NYPD can send more surveillance to protect"
      ],
      "metadata": {
        "id": "b6htV1n-oagY"
      }
    },
    {
      "cell_type": "code",
      "execution_count": 70,
      "metadata": {
        "colab": {
          "base_uri": "https://localhost:8080/",
          "height": 429
        },
        "id": "gOh-545F-ZQ6",
        "outputId": "384f807e-0669-450f-e8d4-b6716d842fc5"
      },
      "outputs": [
        {
          "output_type": "execute_result",
          "data": {
            "text/plain": [
              "   INCIDENT_KEY  OCCUR_DATE OCCUR_TIME    BORO LOC_OF_OCCUR_DESC  PRECINCT  \\\n",
              "0     228798151  05/27/2021   21:30:00  QUEENS               NaN       105   \n",
              "1     137471050  06/27/2014   17:40:00   BRONX               NaN        40   \n",
              "2     147998800  11/21/2015   03:56:00  QUEENS               NaN       108   \n",
              "3     146837977  10/09/2015   18:30:00   BRONX               NaN        44   \n",
              "4      58921844  02/19/2009   22:58:00   BRONX               NaN        47   \n",
              "\n",
              "   JURISDICTION_CODE LOC_CLASSFCTN_DESC LOCATION_DESC  \\\n",
              "0                0.0                NaN           NaN   \n",
              "1                0.0                NaN           NaN   \n",
              "2                0.0                NaN           NaN   \n",
              "3                0.0                NaN           NaN   \n",
              "4                0.0                NaN           NaN   \n",
              "\n",
              "   STATISTICAL_MURDER_FLAG  ... PERP_SEX PERP_RACE VIC_AGE_GROUP VIC_SEX  \\\n",
              "0                    False  ...      NaN       NaN         18-24       M   \n",
              "1                    False  ...      NaN       NaN         18-24       M   \n",
              "2                     True  ...      NaN       NaN         25-44       M   \n",
              "3                    False  ...      NaN       NaN           <18       M   \n",
              "4                     True  ...        M     BLACK         45-64       M   \n",
              "\n",
              "         VIC_RACE    X_COORD_CD     Y_COORD_CD   Latitude  Longitude  \\\n",
              "0           BLACK  1.058925e+06  180924.000000  40.662965 -73.730839   \n",
              "1           BLACK  1.005028e+06  234516.000000  40.810352 -73.924942   \n",
              "2           WHITE  1.007668e+06  209836.531250  40.742607 -73.915492   \n",
              "3  WHITE HISPANIC  1.006537e+06  244511.140625  40.837782 -73.919457   \n",
              "4           BLACK  1.024922e+06  262189.406250  40.886238 -73.852910   \n",
              "\n",
              "                                         Lon_Lat  \n",
              "0  POINT (-73.73083868899994 40.662964620000025)  \n",
              "1   POINT (-73.92494232599995 40.81035186300006)  \n",
              "2   POINT (-73.91549174199997 40.74260663300004)  \n",
              "3   POINT (-73.91945661499994 40.83778200300003)  \n",
              "4   POINT (-73.85290950899997 40.88623791800006)  \n",
              "\n",
              "[5 rows x 21 columns]"
            ],
            "text/html": [
              "\n",
              "  <div id=\"df-5ae834bd-3b95-41c0-b77c-b7409bcc837e\" class=\"colab-df-container\">\n",
              "    <div>\n",
              "<style scoped>\n",
              "    .dataframe tbody tr th:only-of-type {\n",
              "        vertical-align: middle;\n",
              "    }\n",
              "\n",
              "    .dataframe tbody tr th {\n",
              "        vertical-align: top;\n",
              "    }\n",
              "\n",
              "    .dataframe thead th {\n",
              "        text-align: right;\n",
              "    }\n",
              "</style>\n",
              "<table border=\"1\" class=\"dataframe\">\n",
              "  <thead>\n",
              "    <tr style=\"text-align: right;\">\n",
              "      <th></th>\n",
              "      <th>INCIDENT_KEY</th>\n",
              "      <th>OCCUR_DATE</th>\n",
              "      <th>OCCUR_TIME</th>\n",
              "      <th>BORO</th>\n",
              "      <th>LOC_OF_OCCUR_DESC</th>\n",
              "      <th>PRECINCT</th>\n",
              "      <th>JURISDICTION_CODE</th>\n",
              "      <th>LOC_CLASSFCTN_DESC</th>\n",
              "      <th>LOCATION_DESC</th>\n",
              "      <th>STATISTICAL_MURDER_FLAG</th>\n",
              "      <th>...</th>\n",
              "      <th>PERP_SEX</th>\n",
              "      <th>PERP_RACE</th>\n",
              "      <th>VIC_AGE_GROUP</th>\n",
              "      <th>VIC_SEX</th>\n",
              "      <th>VIC_RACE</th>\n",
              "      <th>X_COORD_CD</th>\n",
              "      <th>Y_COORD_CD</th>\n",
              "      <th>Latitude</th>\n",
              "      <th>Longitude</th>\n",
              "      <th>Lon_Lat</th>\n",
              "    </tr>\n",
              "  </thead>\n",
              "  <tbody>\n",
              "    <tr>\n",
              "      <th>0</th>\n",
              "      <td>228798151</td>\n",
              "      <td>05/27/2021</td>\n",
              "      <td>21:30:00</td>\n",
              "      <td>QUEENS</td>\n",
              "      <td>NaN</td>\n",
              "      <td>105</td>\n",
              "      <td>0.0</td>\n",
              "      <td>NaN</td>\n",
              "      <td>NaN</td>\n",
              "      <td>False</td>\n",
              "      <td>...</td>\n",
              "      <td>NaN</td>\n",
              "      <td>NaN</td>\n",
              "      <td>18-24</td>\n",
              "      <td>M</td>\n",
              "      <td>BLACK</td>\n",
              "      <td>1.058925e+06</td>\n",
              "      <td>180924.000000</td>\n",
              "      <td>40.662965</td>\n",
              "      <td>-73.730839</td>\n",
              "      <td>POINT (-73.73083868899994 40.662964620000025)</td>\n",
              "    </tr>\n",
              "    <tr>\n",
              "      <th>1</th>\n",
              "      <td>137471050</td>\n",
              "      <td>06/27/2014</td>\n",
              "      <td>17:40:00</td>\n",
              "      <td>BRONX</td>\n",
              "      <td>NaN</td>\n",
              "      <td>40</td>\n",
              "      <td>0.0</td>\n",
              "      <td>NaN</td>\n",
              "      <td>NaN</td>\n",
              "      <td>False</td>\n",
              "      <td>...</td>\n",
              "      <td>NaN</td>\n",
              "      <td>NaN</td>\n",
              "      <td>18-24</td>\n",
              "      <td>M</td>\n",
              "      <td>BLACK</td>\n",
              "      <td>1.005028e+06</td>\n",
              "      <td>234516.000000</td>\n",
              "      <td>40.810352</td>\n",
              "      <td>-73.924942</td>\n",
              "      <td>POINT (-73.92494232599995 40.81035186300006)</td>\n",
              "    </tr>\n",
              "    <tr>\n",
              "      <th>2</th>\n",
              "      <td>147998800</td>\n",
              "      <td>11/21/2015</td>\n",
              "      <td>03:56:00</td>\n",
              "      <td>QUEENS</td>\n",
              "      <td>NaN</td>\n",
              "      <td>108</td>\n",
              "      <td>0.0</td>\n",
              "      <td>NaN</td>\n",
              "      <td>NaN</td>\n",
              "      <td>True</td>\n",
              "      <td>...</td>\n",
              "      <td>NaN</td>\n",
              "      <td>NaN</td>\n",
              "      <td>25-44</td>\n",
              "      <td>M</td>\n",
              "      <td>WHITE</td>\n",
              "      <td>1.007668e+06</td>\n",
              "      <td>209836.531250</td>\n",
              "      <td>40.742607</td>\n",
              "      <td>-73.915492</td>\n",
              "      <td>POINT (-73.91549174199997 40.74260663300004)</td>\n",
              "    </tr>\n",
              "    <tr>\n",
              "      <th>3</th>\n",
              "      <td>146837977</td>\n",
              "      <td>10/09/2015</td>\n",
              "      <td>18:30:00</td>\n",
              "      <td>BRONX</td>\n",
              "      <td>NaN</td>\n",
              "      <td>44</td>\n",
              "      <td>0.0</td>\n",
              "      <td>NaN</td>\n",
              "      <td>NaN</td>\n",
              "      <td>False</td>\n",
              "      <td>...</td>\n",
              "      <td>NaN</td>\n",
              "      <td>NaN</td>\n",
              "      <td>&lt;18</td>\n",
              "      <td>M</td>\n",
              "      <td>WHITE HISPANIC</td>\n",
              "      <td>1.006537e+06</td>\n",
              "      <td>244511.140625</td>\n",
              "      <td>40.837782</td>\n",
              "      <td>-73.919457</td>\n",
              "      <td>POINT (-73.91945661499994 40.83778200300003)</td>\n",
              "    </tr>\n",
              "    <tr>\n",
              "      <th>4</th>\n",
              "      <td>58921844</td>\n",
              "      <td>02/19/2009</td>\n",
              "      <td>22:58:00</td>\n",
              "      <td>BRONX</td>\n",
              "      <td>NaN</td>\n",
              "      <td>47</td>\n",
              "      <td>0.0</td>\n",
              "      <td>NaN</td>\n",
              "      <td>NaN</td>\n",
              "      <td>True</td>\n",
              "      <td>...</td>\n",
              "      <td>M</td>\n",
              "      <td>BLACK</td>\n",
              "      <td>45-64</td>\n",
              "      <td>M</td>\n",
              "      <td>BLACK</td>\n",
              "      <td>1.024922e+06</td>\n",
              "      <td>262189.406250</td>\n",
              "      <td>40.886238</td>\n",
              "      <td>-73.852910</td>\n",
              "      <td>POINT (-73.85290950899997 40.88623791800006)</td>\n",
              "    </tr>\n",
              "  </tbody>\n",
              "</table>\n",
              "<p>5 rows × 21 columns</p>\n",
              "</div>\n",
              "    <div class=\"colab-df-buttons\">\n",
              "\n",
              "  <div class=\"colab-df-container\">\n",
              "    <button class=\"colab-df-convert\" onclick=\"convertToInteractive('df-5ae834bd-3b95-41c0-b77c-b7409bcc837e')\"\n",
              "            title=\"Convert this dataframe to an interactive table.\"\n",
              "            style=\"display:none;\">\n",
              "\n",
              "  <svg xmlns=\"http://www.w3.org/2000/svg\" height=\"24px\" viewBox=\"0 -960 960 960\">\n",
              "    <path d=\"M120-120v-720h720v720H120Zm60-500h600v-160H180v160Zm220 220h160v-160H400v160Zm0 220h160v-160H400v160ZM180-400h160v-160H180v160Zm440 0h160v-160H620v160ZM180-180h160v-160H180v160Zm440 0h160v-160H620v160Z\"/>\n",
              "  </svg>\n",
              "    </button>\n",
              "\n",
              "  <style>\n",
              "    .colab-df-container {\n",
              "      display:flex;\n",
              "      gap: 12px;\n",
              "    }\n",
              "\n",
              "    .colab-df-convert {\n",
              "      background-color: #E8F0FE;\n",
              "      border: none;\n",
              "      border-radius: 50%;\n",
              "      cursor: pointer;\n",
              "      display: none;\n",
              "      fill: #1967D2;\n",
              "      height: 32px;\n",
              "      padding: 0 0 0 0;\n",
              "      width: 32px;\n",
              "    }\n",
              "\n",
              "    .colab-df-convert:hover {\n",
              "      background-color: #E2EBFA;\n",
              "      box-shadow: 0px 1px 2px rgba(60, 64, 67, 0.3), 0px 1px 3px 1px rgba(60, 64, 67, 0.15);\n",
              "      fill: #174EA6;\n",
              "    }\n",
              "\n",
              "    .colab-df-buttons div {\n",
              "      margin-bottom: 4px;\n",
              "    }\n",
              "\n",
              "    [theme=dark] .colab-df-convert {\n",
              "      background-color: #3B4455;\n",
              "      fill: #D2E3FC;\n",
              "    }\n",
              "\n",
              "    [theme=dark] .colab-df-convert:hover {\n",
              "      background-color: #434B5C;\n",
              "      box-shadow: 0px 1px 3px 1px rgba(0, 0, 0, 0.15);\n",
              "      filter: drop-shadow(0px 1px 2px rgba(0, 0, 0, 0.3));\n",
              "      fill: #FFFFFF;\n",
              "    }\n",
              "  </style>\n",
              "\n",
              "    <script>\n",
              "      const buttonEl =\n",
              "        document.querySelector('#df-5ae834bd-3b95-41c0-b77c-b7409bcc837e button.colab-df-convert');\n",
              "      buttonEl.style.display =\n",
              "        google.colab.kernel.accessAllowed ? 'block' : 'none';\n",
              "\n",
              "      async function convertToInteractive(key) {\n",
              "        const element = document.querySelector('#df-5ae834bd-3b95-41c0-b77c-b7409bcc837e');\n",
              "        const dataTable =\n",
              "          await google.colab.kernel.invokeFunction('convertToInteractive',\n",
              "                                                    [key], {});\n",
              "        if (!dataTable) return;\n",
              "\n",
              "        const docLinkHtml = 'Like what you see? Visit the ' +\n",
              "          '<a target=\"_blank\" href=https://colab.research.google.com/notebooks/data_table.ipynb>data table notebook</a>'\n",
              "          + ' to learn more about interactive tables.';\n",
              "        element.innerHTML = '';\n",
              "        dataTable['output_type'] = 'display_data';\n",
              "        await google.colab.output.renderOutput(dataTable, element);\n",
              "        const docLink = document.createElement('div');\n",
              "        docLink.innerHTML = docLinkHtml;\n",
              "        element.appendChild(docLink);\n",
              "      }\n",
              "    </script>\n",
              "  </div>\n",
              "\n",
              "\n",
              "<div id=\"df-4a45c9cd-f68a-47da-9789-a87479156cab\">\n",
              "  <button class=\"colab-df-quickchart\" onclick=\"quickchart('df-4a45c9cd-f68a-47da-9789-a87479156cab')\"\n",
              "            title=\"Suggest charts\"\n",
              "            style=\"display:none;\">\n",
              "\n",
              "<svg xmlns=\"http://www.w3.org/2000/svg\" height=\"24px\"viewBox=\"0 0 24 24\"\n",
              "     width=\"24px\">\n",
              "    <g>\n",
              "        <path d=\"M19 3H5c-1.1 0-2 .9-2 2v14c0 1.1.9 2 2 2h14c1.1 0 2-.9 2-2V5c0-1.1-.9-2-2-2zM9 17H7v-7h2v7zm4 0h-2V7h2v10zm4 0h-2v-4h2v4z\"/>\n",
              "    </g>\n",
              "</svg>\n",
              "  </button>\n",
              "\n",
              "<style>\n",
              "  .colab-df-quickchart {\n",
              "      --bg-color: #E8F0FE;\n",
              "      --fill-color: #1967D2;\n",
              "      --hover-bg-color: #E2EBFA;\n",
              "      --hover-fill-color: #174EA6;\n",
              "      --disabled-fill-color: #AAA;\n",
              "      --disabled-bg-color: #DDD;\n",
              "  }\n",
              "\n",
              "  [theme=dark] .colab-df-quickchart {\n",
              "      --bg-color: #3B4455;\n",
              "      --fill-color: #D2E3FC;\n",
              "      --hover-bg-color: #434B5C;\n",
              "      --hover-fill-color: #FFFFFF;\n",
              "      --disabled-bg-color: #3B4455;\n",
              "      --disabled-fill-color: #666;\n",
              "  }\n",
              "\n",
              "  .colab-df-quickchart {\n",
              "    background-color: var(--bg-color);\n",
              "    border: none;\n",
              "    border-radius: 50%;\n",
              "    cursor: pointer;\n",
              "    display: none;\n",
              "    fill: var(--fill-color);\n",
              "    height: 32px;\n",
              "    padding: 0;\n",
              "    width: 32px;\n",
              "  }\n",
              "\n",
              "  .colab-df-quickchart:hover {\n",
              "    background-color: var(--hover-bg-color);\n",
              "    box-shadow: 0 1px 2px rgba(60, 64, 67, 0.3), 0 1px 3px 1px rgba(60, 64, 67, 0.15);\n",
              "    fill: var(--button-hover-fill-color);\n",
              "  }\n",
              "\n",
              "  .colab-df-quickchart-complete:disabled,\n",
              "  .colab-df-quickchart-complete:disabled:hover {\n",
              "    background-color: var(--disabled-bg-color);\n",
              "    fill: var(--disabled-fill-color);\n",
              "    box-shadow: none;\n",
              "  }\n",
              "\n",
              "  .colab-df-spinner {\n",
              "    border: 2px solid var(--fill-color);\n",
              "    border-color: transparent;\n",
              "    border-bottom-color: var(--fill-color);\n",
              "    animation:\n",
              "      spin 1s steps(1) infinite;\n",
              "  }\n",
              "\n",
              "  @keyframes spin {\n",
              "    0% {\n",
              "      border-color: transparent;\n",
              "      border-bottom-color: var(--fill-color);\n",
              "      border-left-color: var(--fill-color);\n",
              "    }\n",
              "    20% {\n",
              "      border-color: transparent;\n",
              "      border-left-color: var(--fill-color);\n",
              "      border-top-color: var(--fill-color);\n",
              "    }\n",
              "    30% {\n",
              "      border-color: transparent;\n",
              "      border-left-color: var(--fill-color);\n",
              "      border-top-color: var(--fill-color);\n",
              "      border-right-color: var(--fill-color);\n",
              "    }\n",
              "    40% {\n",
              "      border-color: transparent;\n",
              "      border-right-color: var(--fill-color);\n",
              "      border-top-color: var(--fill-color);\n",
              "    }\n",
              "    60% {\n",
              "      border-color: transparent;\n",
              "      border-right-color: var(--fill-color);\n",
              "    }\n",
              "    80% {\n",
              "      border-color: transparent;\n",
              "      border-right-color: var(--fill-color);\n",
              "      border-bottom-color: var(--fill-color);\n",
              "    }\n",
              "    90% {\n",
              "      border-color: transparent;\n",
              "      border-bottom-color: var(--fill-color);\n",
              "    }\n",
              "  }\n",
              "</style>\n",
              "\n",
              "  <script>\n",
              "    async function quickchart(key) {\n",
              "      const quickchartButtonEl =\n",
              "        document.querySelector('#' + key + ' button');\n",
              "      quickchartButtonEl.disabled = true;  // To prevent multiple clicks.\n",
              "      quickchartButtonEl.classList.add('colab-df-spinner');\n",
              "      try {\n",
              "        const charts = await google.colab.kernel.invokeFunction(\n",
              "            'suggestCharts', [key], {});\n",
              "      } catch (error) {\n",
              "        console.error('Error during call to suggestCharts:', error);\n",
              "      }\n",
              "      quickchartButtonEl.classList.remove('colab-df-spinner');\n",
              "      quickchartButtonEl.classList.add('colab-df-quickchart-complete');\n",
              "    }\n",
              "    (() => {\n",
              "      let quickchartButtonEl =\n",
              "        document.querySelector('#df-4a45c9cd-f68a-47da-9789-a87479156cab button');\n",
              "      quickchartButtonEl.style.display =\n",
              "        google.colab.kernel.accessAllowed ? 'block' : 'none';\n",
              "    })();\n",
              "  </script>\n",
              "</div>\n",
              "    </div>\n",
              "  </div>\n"
            ]
          },
          "metadata": {},
          "execution_count": 70
        }
      ],
      "source": [
        "import numpy as np #import libraries\n",
        "import pandas as pd\n",
        "from inspect import BoundArguments\n",
        "from pandas.core.api import DataFrame\n",
        "\n",
        "\n",
        "df = pd.read_csv(\"NYPD_Shooting_Incident_Data.csv\") #read csv with pandas and print first 5 rows\n",
        "df.head()\n"
      ]
    },
    {
      "cell_type": "code",
      "execution_count": 60,
      "metadata": {
        "id": "HVD_uBnsfihp"
      },
      "outputs": [],
      "source": [
        "borough = df[\"BORO\"] #define where borough column is in our csv\n",
        "\n"
      ]
    },
    {
      "cell_type": "code",
      "source": [
        "from matplotlib import pyplot as plt\n"
      ],
      "metadata": {
        "id": "HTT5YnUgqG1U"
      },
      "execution_count": 61,
      "outputs": []
    },
    {
      "cell_type": "code",
      "execution_count": 71,
      "metadata": {
        "colab": {
          "base_uri": "https://localhost:8080/",
          "height": 448
        },
        "id": "A0MaDkNGyOM4",
        "outputId": "8fbdc654-9d3e-491f-9c56-3178f4d21a63"
      },
      "outputs": [
        {
          "output_type": "execute_result",
          "data": {
            "text/plain": [
              "<Axes: >"
            ]
          },
          "metadata": {},
          "execution_count": 71
        },
        {
          "output_type": "display_data",
          "data": {
            "text/plain": [
              "<Figure size 640x480 with 1 Axes>"
            ],
            "image/png": "[encoded data removed]"
          },
          "metadata": {}
        }
      ],
      "source": [
        "vic_age = df[\"VIC_AGE_GROUP\"] #create histogram of victim age group with 7 bins (using matplotlib)\n",
        "vic_age.hist(bins = 7)"
      ]
    },
    {
      "cell_type": "code",
      "execution_count": 72,
      "metadata": {
        "colab": {
          "base_uri": "https://localhost:8080/",
          "height": 448
        },
        "id": "uuBadX07yceI",
        "outputId": "86818c74-bb34-4635-cadb-a620c43e8653"
      },
      "outputs": [
        {
          "output_type": "execute_result",
          "data": {
            "text/plain": [
              "<Axes: >"
            ]
          },
          "metadata": {},
          "execution_count": 72
        },
        {
          "output_type": "display_data",
          "data": {
            "text/plain": [
              "<Figure size 640x480 with 1 Axes>"
            ],
            "image/png": "[encoded data removed]"
          },
          "metadata": {}
        }
      ],
      "source": [
        "perp_age = df[\"PERP_AGE_GROUP\"] #create histogram of perpertrator age group with 7 bins (using matplotlib) - 7 bins in each for interoperability with victim age group\n",
        "perp_age.hist(bins = 7)"
      ]
    },
    {
      "cell_type": "code",
      "execution_count": 64,
      "metadata": {
        "colab": {
          "base_uri": "https://localhost:8080/",
          "height": 448
        },
        "id": "pnOIw3ND1-W2",
        "outputId": "4d4953bb-1483-4270-e8ae-f53ebb13525e"
      },
      "outputs": [
        {
          "output_type": "execute_result",
          "data": {
            "text/plain": [
              "<Axes: >"
            ]
          },
          "metadata": {},
          "execution_count": 64
        },
        {
          "output_type": "display_data",
          "data": {
            "text/plain": [
              "<Figure size 640x480 with 1 Axes>"
            ],
            "image/png": "[encoded data removed]"
          },
          "metadata": {}
        }
      ],
      "source": [
        "time = pd.to_datetime(df[\"OCCUR_TIME\"]) #create histogram of occurance time with 24 bins (using matplotlib)\n",
        "hour = time.dt.hour\n",
        "\n",
        "hour.hist(bins = 24) #24 bins to equate to military time\n",
        "\n"
      ]
    },
    {
      "cell_type": "code",
      "execution_count": 65,
      "metadata": {
        "colab": {
          "base_uri": "https://localhost:8080/",
          "height": 448
        },
        "id": "X-Dkku996x0g",
        "outputId": "5344689f-1149-40bb-a177-882b05a812b7"
      },
      "outputs": [
        {
          "output_type": "execute_result",
          "data": {
            "text/plain": [
              "<Axes: >"
            ]
          },
          "metadata": {},
          "execution_count": 65
        },
        {
          "output_type": "display_data",
          "data": {
            "text/plain": [
              "<Figure size 640x480 with 1 Axes>"
            ],
            "image/png": "[encoded data removed]"
          },
          "metadata": {}
        }
      ],
      "source": [
        "date = pd.to_datetime(df[\"OCCUR_DATE\"]) #create histogram of occurance date with 12 bins (using matplotlib)\n",
        "month = date.dt.month\n",
        "\n",
        "month.hist(bins = 12) #12 bins for each month"
      ]
    },
    {
      "cell_type": "code",
      "execution_count": 66,
      "metadata": {
        "id": "6aHaDZxjo9lM"
      },
      "outputs": [],
      "source": [
        "\n",
        "#df = df.dropna()\n",
        "#show features of interest\n",
        "train_features = df[[ \"BORO\",\n",
        "                     'PERP_SEX', 'PERP_AGE_GROUP',  'PERP_RACE',\n",
        "                     \"VIC_AGE_GROUP\",  \"VIC_SEX\", \"VIC_RACE\"]]\n",
        "\n",
        "train_labels = df[\"STATISTICAL_MURDER_FLAG\"]\n"
      ]
    },
    {
      "cell_type": "markdown",
      "source": [
        "Where we learned about the map command: https://realpython.com/python-map-function/"
      ],
      "metadata": {
        "id": "S_uElKFLwwX0"
      }
    },
    {
      "cell_type": "code",
      "execution_count": 67,
      "metadata": {
        "colab": {
          "base_uri": "https://localhost:8080/"
        },
        "id": "EIFGIKGwrgPw",
        "outputId": "de949941-d91e-46bf-8ccd-74590bde0292"
      },
      "outputs": [
        {
          "output_type": "execute_result",
          "data": {
            "text/plain": [
              "0        NaN\n",
              "1        NaN\n",
              "2        NaN\n",
              "3        NaN\n",
              "4        0.0\n",
              "        ... \n",
              "27307    NaN\n",
              "27308    1.0\n",
              "27309    0.0\n",
              "27310    0.0\n",
              "27311    0.0\n",
              "Name: PERP_SEX, Length: 27312, dtype: float64"
            ]
          },
          "metadata": {},
          "execution_count": 67
        }
      ],
      "source": [
        "def transform_sex (sex_column): #transform sex column to make binary\n",
        "  sex_column = sex_column.map({'M': 0, 'F': 1}) #from chatGPT\n",
        "  return sex_column #from chatGPT, previously had commented statements below and chatGPT, provided the 2 rows above as a solution to our error\n",
        "\n",
        "\n",
        "vic_sex = train_features['VIC_SEX']\n",
        "perp_sex = train_features['PERP_SEX']\n",
        "\n",
        "transform_sex(vic_sex)\n",
        "transform_sex(perp_sex)\n",
        "\n",
        "\n"
      ]
    },
    {
      "cell_type": "code",
      "execution_count": 68,
      "metadata": {
        "id": "CI0ci9ymuT3p",
        "colab": {
          "base_uri": "https://localhost:8080/"
        },
        "outputId": "dc5ae320-8ec7-4304-f9f8-3da487287dc1"
      },
      "outputs": [
        {
          "output_type": "execute_result",
          "data": {
            "text/plain": [
              "0        NaN\n",
              "1        NaN\n",
              "2        NaN\n",
              "3        NaN\n",
              "4        2.0\n",
              "        ... \n",
              "27307    NaN\n",
              "27308    2.0\n",
              "27309    1.0\n",
              "27310    2.0\n",
              "27311    1.0\n",
              "Name: PERP_AGE_GROUP, Length: 27312, dtype: float64"
            ]
          },
          "metadata": {},
          "execution_count": 68
        }
      ],
      "source": [
        "def transform_age(age_column):\n",
        "  return age_column.map({ #from chatGPT\n",
        "        \"<18\": 0, #from chatGPT\n",
        "        \"18-24\": 1, #from chatGPT\n",
        "        \"25-44\": 2, #from chatGPT\n",
        "        \"45-64\": 3, #from chatGPT\n",
        "        \"65+\": 4 #from chatGPT\n",
        "    }) #from chatGPT , previously had commented statements below and chatGPT, provided the 2 rows above as a solution to our error\n",
        "\n",
        "\n",
        "vic_age = train_features['VIC_AGE_GROUP']\n",
        "perp_age = train_features['PERP_AGE_GROUP']\n",
        "\n",
        "transform_age(vic_age)\n",
        "transform_age(perp_age)\n",
        "\n",
        "\n"
      ]
    },
    {
      "cell_type": "code",
      "execution_count": 47,
      "metadata": {
        "id": "O-UPnvI3yiy1"
      },
      "outputs": [],
      "source": []
    },
    {
      "cell_type": "code",
      "execution_count": 69,
      "metadata": {
        "id": "qdg0B3CbujvV",
        "colab": {
          "base_uri": "https://localhost:8080/"
        },
        "outputId": "49533822-212d-4bd8-defe-f3a414a92d48"
      },
      "outputs": [
        {
          "output_type": "execute_result",
          "data": {
            "text/plain": [
              "0        NaN\n",
              "1        NaN\n",
              "2        NaN\n",
              "3        NaN\n",
              "4        1.0\n",
              "        ... \n",
              "27307    NaN\n",
              "27308    2.0\n",
              "27309    1.0\n",
              "27310    1.0\n",
              "27311    1.0\n",
              "Name: PERP_RACE, Length: 27312, dtype: float64"
            ]
          },
          "metadata": {},
          "execution_count": 69
        }
      ],
      "source": [
        "\n",
        "def transform_race(race_column):\n",
        "  race_mapping = { #from chatGPT\n",
        "        'WHITE': 0, #from chatGPT\n",
        "        'BLACK': 1, #from chatGPT\n",
        "        'WHITE HISPANIC': 2, #from chatGPT\n",
        "        'BLACK HISPANIC': 3, #from chatGPT\n",
        "        'ASIAN / PACIFIC ISLANDER': 4, #from chatGPT\n",
        "        'AMERICAN INDIAN/ALASKAN NATIVE': 5 #from chatGPT\n",
        "    } #from chatGPT\n",
        "  return race_column.map(race_mapping) #from chatGPT , previously had commented statements below and chatGPT, provided the 2 rows above as a solution to our error\n",
        "\n",
        "\n",
        "\n",
        "vic_race = train_features['VIC_RACE']\n",
        "perp_race = train_features['PERP_RACE']\n",
        "\n",
        "transform_race(vic_race)\n",
        "transform_race(perp_race)\n"
      ]
    },
    {
      "cell_type": "code",
      "execution_count": 49,
      "metadata": {
        "id": "B8uLj3O1_-Gj"
      },
      "outputs": [],
      "source": [
        "\n",
        "\n",
        "def transform_borough(borough):\n",
        "  borough_mapping = { #from chatGPT\n",
        "        'QUEENS': 0, #from chatGPT\n",
        "        'BRONX': 1, #from chatGPT\n",
        "        'BROOKLYN': 2, #from chatGPT\n",
        "        'MANHATTAN': 3, #from chatGPT\n",
        "        'STATEN ISLAND': 4 #from chatGPT\n",
        "    } #from chatGPT\n",
        "  return borough.map(borough_mapping) #from chatGPT , previously had commented statements below and chatGPT, provided the 2 rows above as a solution to our error\n",
        "\n",
        "\n",
        "borough = train_features['BORO']\n",
        "\n",
        "#data_transformation(perp_sex)\n",
        "transform_borough(borough)\n",
        "\n",
        "\n",
        "train_features = train_features.dropna()\n"
      ]
    },
    {
      "cell_type": "code",
      "source": [
        "\n",
        "def clean_and_save_data(input_file_path, output_file_path):\n",
        "    # Read the CSV file into a Pandas DataFrame\n",
        "    data = pd.read_csv(input_file_path)\n",
        "\n",
        "    data.dropna()\n",
        "\n",
        "    # Transform 'M' to 0 and 'F' to 1, drop rows with unknown/null values\n",
        "    data = data[data['VIC_SEX'].isin(['M', 'F'])].copy()\n",
        "    data['VIC_SEX'] = data['VIC_SEX'].map({'M': 0, 'F': 1})\n",
        "\n",
        "    data = data[data['PERP_SEX'].isin(['M', 'F'])].copy()\n",
        "    data['PERP_SEX'] = data['PERP_SEX'].map({'M': 0, 'F': 1})\n",
        "\n",
        "    # Keep only the specified columns\n",
        "    selected_columns = ['OCCUR_DATE', 'BORO', 'PRECINCT', 'PERP_RACE', 'VIC_RACE', 'VIC_SEX', 'PERP_SEX']\n",
        "    data = data[selected_columns].copy()\n",
        "\n",
        "    # Convert everything to floats\n",
        "    data = data.apply(pd.to_numeric, errors='coerce')\n",
        "\n",
        "    # Save the cleaned data to a new CSV file\n",
        "    data.to_csv(output_file_path, index=False)\n",
        "\n",
        "    # Print the table\n",
        "    print(data)\n",
        "\n",
        "# Replace 'path/to/your/input/file.csv' and 'path/to/your/output/file.csv' with your actual file paths\n",
        "clean_and_save_data('NYPD_Shooting_Incident_Data.csv', 'Cleaned_NYPD_Shooting_Incident_Data.csv')\n"
      ],
      "metadata": {
        "colab": {
          "base_uri": "https://localhost:8080/"
        },
        "id": "WfSsQni4OIfK",
        "outputId": "90e33b31-6502-490f-cb57-512bc22e2993"
      },
      "execution_count": 58,
      "outputs": [
        {
          "output_type": "stream",
          "name": "stdout",
          "text": [
            "       OCCUR_DATE  BORO  PRECINCT  PERP_RACE  VIC_RACE  VIC_SEX  PERP_SEX\n",
            "4             NaN   NaN        47        NaN       NaN        0         0\n",
            "9             NaN   NaN       101        NaN       NaN        0         0\n",
            "11            NaN   NaN        75        NaN       NaN        0         0\n",
            "15            NaN   NaN        47        NaN       NaN        0         0\n",
            "16            NaN   NaN        30        NaN       NaN        0         0\n",
            "...           ...   ...       ...        ...       ...      ...       ...\n",
            "27306         NaN   NaN        41        NaN       NaN        1         0\n",
            "27308         NaN   NaN        30        NaN       NaN        0         1\n",
            "27309         NaN   NaN        32        NaN       NaN        0         0\n",
            "27310         NaN   NaN        46        NaN       NaN        0         0\n",
            "27311         NaN   NaN        45        NaN       NaN        0         0\n",
            "\n",
            "[15856 rows x 7 columns]\n"
          ]
        }
      ]
    },
    {
      "cell_type": "code",
      "execution_count": 51,
      "metadata": {
        "colab": {
          "base_uri": "https://localhost:8080/",
          "height": 399
        },
        "id": "7NRFOwEaI69q",
        "outputId": "9b819f0c-cc85-4daa-bf00-18e6d7aa5ffd"
      },
      "outputs": [
        {
          "output_type": "error",
          "ename": "ValueError",
          "evalue": "ignored",
          "traceback": [
            "\u001b[0;31m---------------------------------------------------------------------------\u001b[0m",
            "\u001b[0;31mValueError\u001b[0m                                Traceback (most recent call last)",
            "\u001b[0;32m<ipython-input-51-b0278140db07>\u001b[0m in \u001b[0;36m<cell line: 11>\u001b[0;34m()\u001b[0m\n\u001b[1;32m      9\u001b[0m \u001b[0;34m\u001b[0m\u001b[0m\n\u001b[1;32m     10\u001b[0m \u001b[0;31m# train our models\u001b[0m\u001b[0;34m\u001b[0m\u001b[0;34m\u001b[0m\u001b[0m\n\u001b[0;32m---> 11\u001b[0;31m \u001b[0mlr_classifier\u001b[0m\u001b[0;34m.\u001b[0m\u001b[0mfit\u001b[0m\u001b[0;34m(\u001b[0m\u001b[0mtrain_features\u001b[0m\u001b[0;34m.\u001b[0m\u001b[0mto_numpy\u001b[0m\u001b[0;34m(\u001b[0m\u001b[0;34m)\u001b[0m\u001b[0;34m,\u001b[0m\u001b[0mtrain_labels\u001b[0m\u001b[0;34m.\u001b[0m\u001b[0mto_numpy\u001b[0m\u001b[0;34m(\u001b[0m\u001b[0;34m)\u001b[0m\u001b[0;34m)\u001b[0m\u001b[0;34m\u001b[0m\u001b[0;34m\u001b[0m\u001b[0m\n\u001b[0m\u001b[1;32m     12\u001b[0m \u001b[0mmlp_classifier\u001b[0m\u001b[0;34m.\u001b[0m\u001b[0mfit\u001b[0m\u001b[0;34m(\u001b[0m\u001b[0mtrain_features\u001b[0m\u001b[0;34m.\u001b[0m\u001b[0mto_numpy\u001b[0m\u001b[0;34m(\u001b[0m\u001b[0;34m)\u001b[0m\u001b[0;34m,\u001b[0m\u001b[0mtrain_labels\u001b[0m\u001b[0;34m.\u001b[0m\u001b[0mto_numpy\u001b[0m\u001b[0;34m(\u001b[0m\u001b[0;34m)\u001b[0m\u001b[0;34m)\u001b[0m\u001b[0;34m\u001b[0m\u001b[0;34m\u001b[0m\u001b[0m\n",
            "\u001b[0;32m/usr/local/lib/python3.10/dist-packages/sklearn/linear_model/_logistic.py\u001b[0m in \u001b[0;36mfit\u001b[0;34m(self, X, y, sample_weight)\u001b[0m\n\u001b[1;32m   1194\u001b[0m             \u001b[0m_dtype\u001b[0m \u001b[0;34m=\u001b[0m \u001b[0;34m[\u001b[0m\u001b[0mnp\u001b[0m\u001b[0;34m.\u001b[0m\u001b[0mfloat64\u001b[0m\u001b[0;34m,\u001b[0m \u001b[0mnp\u001b[0m\u001b[0;34m.\u001b[0m\u001b[0mfloat32\u001b[0m\u001b[0;34m]\u001b[0m\u001b[0;34m\u001b[0m\u001b[0;34m\u001b[0m\u001b[0m\n\u001b[1;32m   1195\u001b[0m \u001b[0;34m\u001b[0m\u001b[0m\n\u001b[0;32m-> 1196\u001b[0;31m         X, y = self._validate_data(\n\u001b[0m\u001b[1;32m   1197\u001b[0m             \u001b[0mX\u001b[0m\u001b[0;34m,\u001b[0m\u001b[0;34m\u001b[0m\u001b[0;34m\u001b[0m\u001b[0m\n\u001b[1;32m   1198\u001b[0m             \u001b[0my\u001b[0m\u001b[0;34m,\u001b[0m\u001b[0;34m\u001b[0m\u001b[0;34m\u001b[0m\u001b[0m\n",
            "\u001b[0;32m/usr/local/lib/python3.10/dist-packages/sklearn/base.py\u001b[0m in \u001b[0;36m_validate_data\u001b[0;34m(self, X, y, reset, validate_separately, **check_params)\u001b[0m\n\u001b[1;32m    582\u001b[0m                 \u001b[0my\u001b[0m \u001b[0;34m=\u001b[0m \u001b[0mcheck_array\u001b[0m\u001b[0;34m(\u001b[0m\u001b[0my\u001b[0m\u001b[0;34m,\u001b[0m \u001b[0minput_name\u001b[0m\u001b[0;34m=\u001b[0m\u001b[0;34m\"y\"\u001b[0m\u001b[0;34m,\u001b[0m \u001b[0;34m**\u001b[0m\u001b[0mcheck_y_params\u001b[0m\u001b[0;34m)\u001b[0m\u001b[0;34m\u001b[0m\u001b[0;34m\u001b[0m\u001b[0m\n\u001b[1;32m    583\u001b[0m             \u001b[0;32melse\u001b[0m\u001b[0;34m:\u001b[0m\u001b[0;34m\u001b[0m\u001b[0;34m\u001b[0m\u001b[0m\n\u001b[0;32m--> 584\u001b[0;31m                 \u001b[0mX\u001b[0m\u001b[0;34m,\u001b[0m \u001b[0my\u001b[0m \u001b[0;34m=\u001b[0m \u001b[0mcheck_X_y\u001b[0m\u001b[0;34m(\u001b[0m\u001b[0mX\u001b[0m\u001b[0;34m,\u001b[0m \u001b[0my\u001b[0m\u001b[0;34m,\u001b[0m \u001b[0;34m**\u001b[0m\u001b[0mcheck_params\u001b[0m\u001b[0;34m)\u001b[0m\u001b[0;34m\u001b[0m\u001b[0;34m\u001b[0m\u001b[0m\n\u001b[0m\u001b[1;32m    585\u001b[0m             \u001b[0mout\u001b[0m \u001b[0;34m=\u001b[0m \u001b[0mX\u001b[0m\u001b[0;34m,\u001b[0m \u001b[0my\u001b[0m\u001b[0;34m\u001b[0m\u001b[0;34m\u001b[0m\u001b[0m\n\u001b[1;32m    586\u001b[0m \u001b[0;34m\u001b[0m\u001b[0m\n",
            "\u001b[0;32m/usr/local/lib/python3.10/dist-packages/sklearn/utils/validation.py\u001b[0m in \u001b[0;36mcheck_X_y\u001b[0;34m(X, y, accept_sparse, accept_large_sparse, dtype, order, copy, force_all_finite, ensure_2d, allow_nd, multi_output, ensure_min_samples, ensure_min_features, y_numeric, estimator)\u001b[0m\n\u001b[1;32m   1104\u001b[0m         )\n\u001b[1;32m   1105\u001b[0m \u001b[0;34m\u001b[0m\u001b[0m\n\u001b[0;32m-> 1106\u001b[0;31m     X = check_array(\n\u001b[0m\u001b[1;32m   1107\u001b[0m         \u001b[0mX\u001b[0m\u001b[0;34m,\u001b[0m\u001b[0;34m\u001b[0m\u001b[0;34m\u001b[0m\u001b[0m\n\u001b[1;32m   1108\u001b[0m         \u001b[0maccept_sparse\u001b[0m\u001b[0;34m=\u001b[0m\u001b[0maccept_sparse\u001b[0m\u001b[0;34m,\u001b[0m\u001b[0;34m\u001b[0m\u001b[0;34m\u001b[0m\u001b[0m\n",
            "\u001b[0;32m/usr/local/lib/python3.10/dist-packages/sklearn/utils/validation.py\u001b[0m in \u001b[0;36mcheck_array\u001b[0;34m(array, accept_sparse, accept_large_sparse, dtype, order, copy, force_all_finite, ensure_2d, allow_nd, ensure_min_samples, ensure_min_features, estimator, input_name)\u001b[0m\n\u001b[1;32m    877\u001b[0m                     \u001b[0marray\u001b[0m \u001b[0;34m=\u001b[0m \u001b[0mxp\u001b[0m\u001b[0;34m.\u001b[0m\u001b[0mastype\u001b[0m\u001b[0;34m(\u001b[0m\u001b[0marray\u001b[0m\u001b[0;34m,\u001b[0m \u001b[0mdtype\u001b[0m\u001b[0;34m,\u001b[0m \u001b[0mcopy\u001b[0m\u001b[0;34m=\u001b[0m\u001b[0;32mFalse\u001b[0m\u001b[0;34m)\u001b[0m\u001b[0;34m\u001b[0m\u001b[0;34m\u001b[0m\u001b[0m\n\u001b[1;32m    878\u001b[0m                 \u001b[0;32melse\u001b[0m\u001b[0;34m:\u001b[0m\u001b[0;34m\u001b[0m\u001b[0;34m\u001b[0m\u001b[0m\n\u001b[0;32m--> 879\u001b[0;31m                     \u001b[0marray\u001b[0m \u001b[0;34m=\u001b[0m \u001b[0m_asarray_with_order\u001b[0m\u001b[0;34m(\u001b[0m\u001b[0marray\u001b[0m\u001b[0;34m,\u001b[0m \u001b[0morder\u001b[0m\u001b[0;34m=\u001b[0m\u001b[0morder\u001b[0m\u001b[0;34m,\u001b[0m \u001b[0mdtype\u001b[0m\u001b[0;34m=\u001b[0m\u001b[0mdtype\u001b[0m\u001b[0;34m,\u001b[0m \u001b[0mxp\u001b[0m\u001b[0;34m=\u001b[0m\u001b[0mxp\u001b[0m\u001b[0;34m)\u001b[0m\u001b[0;34m\u001b[0m\u001b[0;34m\u001b[0m\u001b[0m\n\u001b[0m\u001b[1;32m    880\u001b[0m             \u001b[0;32mexcept\u001b[0m \u001b[0mComplexWarning\u001b[0m \u001b[0;32mas\u001b[0m \u001b[0mcomplex_warning\u001b[0m\u001b[0;34m:\u001b[0m\u001b[0;34m\u001b[0m\u001b[0;34m\u001b[0m\u001b[0m\n\u001b[1;32m    881\u001b[0m                 raise ValueError(\n",
            "\u001b[0;32m/usr/local/lib/python3.10/dist-packages/sklearn/utils/_array_api.py\u001b[0m in \u001b[0;36m_asarray_with_order\u001b[0;34m(array, dtype, order, copy, xp)\u001b[0m\n\u001b[1;32m    183\u001b[0m     \u001b[0;32mif\u001b[0m \u001b[0mxp\u001b[0m\u001b[0;34m.\u001b[0m\u001b[0m__name__\u001b[0m \u001b[0;32min\u001b[0m \u001b[0;34m{\u001b[0m\u001b[0;34m\"numpy\"\u001b[0m\u001b[0;34m,\u001b[0m \u001b[0;34m\"numpy.array_api\"\u001b[0m\u001b[0;34m}\u001b[0m\u001b[0;34m:\u001b[0m\u001b[0;34m\u001b[0m\u001b[0;34m\u001b[0m\u001b[0m\n\u001b[1;32m    184\u001b[0m         \u001b[0;31m# Use NumPy API to support order\u001b[0m\u001b[0;34m\u001b[0m\u001b[0;34m\u001b[0m\u001b[0m\n\u001b[0;32m--> 185\u001b[0;31m         \u001b[0marray\u001b[0m \u001b[0;34m=\u001b[0m \u001b[0mnumpy\u001b[0m\u001b[0;34m.\u001b[0m\u001b[0masarray\u001b[0m\u001b[0;34m(\u001b[0m\u001b[0marray\u001b[0m\u001b[0;34m,\u001b[0m \u001b[0morder\u001b[0m\u001b[0;34m=\u001b[0m\u001b[0morder\u001b[0m\u001b[0;34m,\u001b[0m \u001b[0mdtype\u001b[0m\u001b[0;34m=\u001b[0m\u001b[0mdtype\u001b[0m\u001b[0;34m)\u001b[0m\u001b[0;34m\u001b[0m\u001b[0;34m\u001b[0m\u001b[0m\n\u001b[0m\u001b[1;32m    186\u001b[0m         \u001b[0;32mreturn\u001b[0m \u001b[0mxp\u001b[0m\u001b[0;34m.\u001b[0m\u001b[0masarray\u001b[0m\u001b[0;34m(\u001b[0m\u001b[0marray\u001b[0m\u001b[0;34m,\u001b[0m \u001b[0mcopy\u001b[0m\u001b[0;34m=\u001b[0m\u001b[0mcopy\u001b[0m\u001b[0;34m)\u001b[0m\u001b[0;34m\u001b[0m\u001b[0;34m\u001b[0m\u001b[0m\n\u001b[1;32m    187\u001b[0m     \u001b[0;32melse\u001b[0m\u001b[0;34m:\u001b[0m\u001b[0;34m\u001b[0m\u001b[0;34m\u001b[0m\u001b[0m\n",
            "\u001b[0;31mValueError\u001b[0m: could not convert string to float: 'BRONX'"
          ]
        }
      ],
      "source": [
        "from sklearn.linear_model import LogisticRegression\n",
        "from sklearn.neural_network import MLPClassifier\n",
        "\n",
        "\n",
        "lr_classifier = LogisticRegression(solver='lbfgs',max_iter=10000)\n",
        "mlp_classifier = MLPClassifier(solver='lbfgs', alpha=1e-5,\n",
        "                               hidden_layer_sizes=(8, 2), random_state=11,max_iter=10000)\n",
        "\n",
        "\n",
        "# train our models\n",
        "lr_classifier.fit(train_features.to_numpy(),train_labels.to_numpy())\n",
        "mlp_classifier.fit(train_features.to_numpy(),train_labels.to_numpy())"
      ]
    },
    {
      "cell_type": "code",
      "execution_count": null,
      "metadata": {
        "id": "2Wx7o4iWJgpA"
      },
      "outputs": [],
      "source": [
        "from sklearn.metrics import accuracy_score\n",
        "\n",
        "#load test data\n",
        "test_df = pd.read_csv(\"test.csv\")\n",
        "\n",
        "# Extract the input features\n",
        "test_inputs = test_df[[ \"BORO\", \"PERP_AGE_GROUP\",\n",
        "              \"PERP_SEX\", \"PERP_RACE\", \"VIC_AGE_GROUP\",  \"VIC_SEX\", \"VIC_RACE\"]]\n",
        "\n",
        "y_actual = test_df[\"STATISTICAL_MURDER_FLAG\"]\n",
        "\n",
        "# predict using logistic regression model\n",
        "y_predicted_lr = lr_classifier.predict(test_inputs.to_numpy())\n",
        "lr_accuracy_score = accuracy_score(y_predicted_lr,y_actual)\n",
        "\n",
        "# predict using logistic regression model\n",
        "y_predicted_mlp = mlp_classifier.predict(test_inputs.to_numpy())\n",
        "mlp_accuracy_score = accuracy_score(y_predicted_mlp,y_actual)\n",
        "\n",
        "print (f\"Accuracy of the Logistic Classifier = {lr_accuracy_score}\")\n",
        "print (f\"Accuracy of the MLP Classifier = {mlp_accuracy_score}\")"
      ]
    },
    {
      "cell_type": "markdown",
      "source": [],
      "metadata": {
        "id": "MKjjR_AGDDxq"
      }
    },
    {
      "cell_type": "markdown",
      "source": [
        "Aamina code from class Data curation, and then also from chatGPT.\n"
      ],
      "metadata": {
        "id": "KGJ1zbXpn2ns"
      }
    },
    {
      "cell_type": "markdown",
      "source": [
        "## 1. Import libraries (install if needed)"
      ],
      "metadata": {
        "id": "qdpb13BmoWLH"
      }
    },
    {
      "cell_type": "code",
      "source": [
        "# Check if beautifulsoup and pandas are already installed\n",
        "# If not, install it and then import\n",
        "\n",
        "try:\n",
        "    from bs4 import BeautifulSoup\n",
        "    import pandas\n",
        "    print (\"BeautifulSoup and Pandas are already installed and imported\")\n",
        "except:\n",
        "    import sys\n",
        "    !conda install --yes --prefix {sys.prefix} bs4\n",
        "    !conda install --yes --prefix {sys.prefix} pandas\n",
        "    from bs4 import BeautifulSoup\n",
        "    import pandas\n",
        "    print (\"BeautifulSoup and Pandas were not found. Installed them and imported\")\n",
        "\n",
        "import requests"
      ],
      "metadata": {
        "id": "cP5H9Ke_n_4e"
      },
      "execution_count": null,
      "outputs": []
    },
    {
      "cell_type": "markdown",
      "source": [
        "## 2. Read the csv data and parse it with BeautifulSoup"
      ],
      "metadata": {
        "id": "QgbgeLYJovO-"
      }
    },
    {
      "cell_type": "code",
      "source": [
        "import pandas as pd\n",
        "\n",
        "csv_file_path = 'NYPD_Shooting_Incident_Data.csv'\n",
        "\n",
        "# Read data from the CSV file using pandas\n",
        "data = pd.read_csv(csv_file_path)\n",
        "\n",
        "# Print a message to indicate that the CSV file has been loaded successfully\n",
        "print(\"CSV file loaded successfully...\")\n",
        "\n",
        "# Continue with BeautifulSoup code (if needed)\n",
        "# Initialize a BeautifulSoup object to read and parse the CSV data\n",
        "# This is like calling the __init__ function in BeautifulSoup\n",
        "# Note: BeautifulSoup is typically used for HTML parsing, not CSV parsing\n",
        "# This is just for demonstration purposes; you might not actually need BeautifulSoup for CSV data.\n",
        "# bs = BeautifulSoup(data.to_html(), \"html.parser\")\n"
      ],
      "metadata": {
        "id": "7tqZE7Cyogan"
      },
      "execution_count": null,
      "outputs": []
    },
    {
      "cell_type": "markdown",
      "source": [
        "Print and extract raw data"
      ],
      "metadata": {
        "id": "o8aeDWeApGQm"
      }
    },
    {
      "cell_type": "code",
      "source": [
        "import pandas as pd\n",
        "\n",
        "csv_file_path = 'NYPD_Shooting_Incident_Data.csv'\n",
        "\n",
        "# Read data from the CSV file using pandas\n",
        "data = pd.read_csv(csv_file_path)\n",
        "\n",
        "# Print a message to indicate that the CSV file has been loaded successfully\n",
        "print(\"CSV file loaded successfully...\")\n",
        "\n",
        "# Print the raw data\n",
        "print(\"Raw Data:\")\n",
        "print(data)\n"
      ],
      "metadata": {
        "id": "wURjWho0pAgD"
      },
      "execution_count": null,
      "outputs": []
    },
    {
      "cell_type": "code",
      "source": [
        "def transform_sex (sex_column): #transform sex column to make binary\n",
        "  sex_column = sex_column.map({'M': 0, 'F': 1}) #from chatGPT\n",
        "  return sex_column #from chatGPT, previously had commented statements below and chatGPT, provided the 2 rows above as a solution to our error\n",
        "  # for i in range (len(sex_column)):\n",
        "  #   if sex_column[i] == 'M':\n",
        "  #     sex_column[i] = 0\n",
        "  #   elif sex_column[i] == 'F':\n",
        "  #     sex_column[i] = 1\n",
        "  #   else:\n",
        "  #     sex_column.drop(i)\n",
        "\n",
        "vic_sex = train_features['VIC_SEX']\n",
        "perp_sex = train_features['PERP_SEX']\n",
        "\n",
        "transform_sex(vic_sex)\n",
        "transform_sex(perp_sex)\n",
        "\n",
        "\n"
      ],
      "metadata": {
        "id": "PHwY3IO5qF8_"
      },
      "execution_count": null,
      "outputs": []
    },
    {
      "cell_type": "markdown",
      "source": [
        "## Clean and transform data"
      ],
      "metadata": {
        "id": "UbXnn-CLrqXS"
      }
    },
    {
      "cell_type": "code",
      "source": [
        "import pandas as pd\n",
        "\n",
        "def transform_sex(sex_column):\n",
        "    # Transform sex column to make binary\n",
        "    sex_column = sex_column.map({'M': 0, 'F': 1})\n",
        "    return sex_column\n",
        "\n",
        "# Assuming train_features is your DataFrame\n",
        "file_path = '/content/NYPD_Shooting_Incident_Data.csv'  # Update this with the actual path to your CSV file\n",
        "train_features = pd.read_csv(file_path)\n",
        "\n",
        "vic_sex = train_features['VIC_SEX']\n",
        "perp_sex = train_features['PERP_SEX']\n",
        "\n",
        "# Apply the transform_sex function to 'VIC_SEX' and 'PERP_SEX' columns\n",
        "vic_sex_transformed = transform_sex(vic_sex)\n",
        "perp_sex_transformed = transform_sex(perp_sex)\n",
        "\n",
        "# Select only the desired columns\n",
        "selected_columns = ['OCCUR_DATE', 'BORO', 'PRECINCT', 'PERP_AGE_GROUP', 'PERP_SEX', 'PERP_RACE',  'VIC_AGE_GROUP',  'VIC_SEX', 'VIC_RACE']\n",
        "cleaned_data = train_features[selected_columns].copy()\n",
        "\n",
        "# Drop unnecessary columns\n",
        "unnecessary_columns = [\n",
        "    'INCIDENT_KEY', 'OCCUR_TIME', 'LOC_OF_OCCUR_DESC', 'JURISDICTION_CODE',\n",
        "    'LOC_CLASSFCTN_DESC', 'LOCATION_DESC', 'STATISTICAL_MURDER_FLAG',\n",
        "     'X_COORD_CD', 'Y_COORD_CD', 'Latitude', 'Longitude', 'Lon_Lat'\n",
        "]\n",
        "cleaned_data.drop(columns=unnecessary_columns, errors='ignore', inplace=True)\n",
        "\n",
        "# Filter out rows with null/unknown values\n",
        "cleaned_data = cleaned_data.dropna()\n",
        "\n",
        "# Save the cleaned and transformed data to a new CSV file\n",
        "output_file_path = '/content/clean_NYPD_Shooting_Incident_Data.csv'  # Update this with the desired path for the new CSV file\n",
        "cleaned_data.to_csv(output_file_path, index=False)\n",
        "\n",
        "# Display the path to the saved CSV file\n",
        "print(f\"\\nCleaned and Transformed Data saved to: {output_file_path}\")\n"
      ],
      "metadata": {
        "id": "EKHeCxFwtIKo"
      },
      "execution_count": null,
      "outputs": []
    },
    {
      "cell_type": "code",
      "source": [
        "import pandas as pd\n",
        "\n",
        "def transform_sex(sex_column):\n",
        "    # Transform sex column to make binary\n",
        "    sex_column = sex_column.map({'M': 0, 'F': 1})\n",
        "    return sex_column\n",
        "\n",
        "# Assuming train_features is your DataFrame\n",
        "file_path = '/content/NYPD_Shooting_Incident_Data.csv'  # Update this with the actual path to your CSV file\n",
        "train_features = pd.read_csv(file_path)\n",
        "\n",
        "# Apply the transform_sex function to 'PERP_SEX' and 'VIC_SEX' columns\n",
        "train_features['PERP_SEX'] = transform_sex(train_features['PERP_SEX'])\n",
        "train_features['VIC_SEX'] = transform_sex(train_features['VIC_SEX'])\n",
        "\n",
        "# Select only the desired columns\n",
        "selected_columns = ['OCCUR_DATE', 'BORO', 'PRECINCT', 'PERP_AGE_GROUP', 'PERP_SEX', 'PERP_RACE',  'VIC_AGE_GROUP',  'VIC_SEX', 'VIC_RACE']\n",
        "cleaned_data = train_features[selected_columns].copy()\n",
        "\n",
        "# Drop unnecessary columns\n",
        "unnecessary_columns = [\n",
        "    'INCIDENT_KEY', 'OCCUR_TIME', 'LOC_OF_OCCUR_DESC', 'JURISDICTION_CODE',\n",
        "    'LOC_CLASSFCTN_DESC', 'LOCATION_DESC', 'STATISTICAL_MURDER_FLAG',\n",
        "     'X_COORD_CD', 'Y_COORD_CD', 'Latitude', 'Longitude', 'Lon_Lat'\n",
        "]\n",
        "cleaned_data.drop(columns=unnecessary_columns, errors='ignore', inplace=True)\n",
        "\n",
        "# Filter out rows with null/unknown values\n",
        "cleaned_data = cleaned_data.dropna()\n",
        "\n",
        "# Save the cleaned and transformed data to a new CSV file\n",
        "output_file_path = '/content/clean_NYPD_Shooting_Incident_Data.csv'  # Update this with the desired path for the new CSV file\n",
        "cleaned_data.to_csv(output_file_path, index=False)\n",
        "\n",
        "# Display the path to the saved CSV file\n",
        "print(f\"Cleaned and Transformed Data saved to: {output_file_path}\")\n",
        "\n",
        "# Display the cleaned data in a table format\n",
        "print(\"\\nCleaned Data Table:\")\n",
        "print(cleaned_data.to_string(index=False))\n"
      ],
      "metadata": {
        "id": "tBGcEx1CregJ"
      },
      "execution_count": null,
      "outputs": []
    },
    {
      "cell_type": "markdown",
      "source": [
        "This Python code performs cleaning and transformation on a dataset representing NYPD shooting incident data. Here's a step-by-step explanation:\n",
        "\n",
        "1. **Read Data:**\n",
        "   - Reads the data from the CSV file (`NYPD_Shooting_Incident_Data.csv`) into a Pandas DataFrame named `train_features`.\n",
        "\n",
        "2. **Transform 'SEX' Column:**\n",
        "   - Defines a function `transform_sex` to map 'M' to 0 and 'F' to 1.\n",
        "   - Applies this transformation to the 'PERP_SEX' and 'VIC_SEX' columns in the `train_features` DataFrame.\n",
        "\n",
        "3. **Select Desired Columns:**\n",
        "   - Creates a new DataFrame named `cleaned_data` containing only the selected columns:\n",
        "     - 'OCCUR_DATE', 'BORO', 'PRECINCT', 'PERP_AGE_GROUP', 'PERP_SEX', 'PERP_RACE', 'VIC_AGE_GROUP', 'VIC_SEX', 'VIC_RACE'.\n",
        "\n",
        "4. **Drop Unnecessary Columns:**\n",
        "   - Drops unnecessary columns from `cleaned_data`. These columns are:\n",
        "     - 'INCIDENT_KEY', 'OCCUR_TIME', 'LOC_OF_OCCUR_DESC', 'JURISDICTION_CODE', 'LOC_CLASSFCTN_DESC', 'LOCATION_DESC', 'STATISTICAL_MURDER_FLAG', 'X_COORD_CD', 'Y_COORD_CD', 'Latitude', 'Longitude', 'Lon_Lat'.\n",
        "\n",
        "5. **Convert 'SEX' to Binary:**\n",
        "   - Applies the `transform_sex` function to the 'PERP_SEX' and 'VIC_SEX' columns in `cleaned_data` to ensure they are binary (0 for 'M' and 1 for 'F').\n",
        "\n",
        "6. **Convert 'AGE' to Numeric:**\n",
        "   - Converts the 'PERP_AGE_GROUP' and 'VIC_AGE_GROUP' columns in `cleaned_data` to numeric, handling any non-numeric values.\n",
        "\n",
        "7. **Convert 'PRECINCT' to Numeric:**\n",
        "   - Converts the 'PRECINCT' column in `cleaned_data` to numeric, handling any non-numeric values.\n",
        "\n",
        "8. **Drop Rows with Null/Unknown Values:**\n",
        "   - Drops rows containing null or unknown values from `cleaned_data`.\n",
        "\n",
        "9. **Save Cleaned and Transformed Data:**\n",
        "   - Saves the cleaned and transformed data to a new CSV file (`clean_NYPD_Shooting_Incident_Data.csv`).\n",
        "\n",
        "10. **Print Information:**\n",
        "    - Prints the path to the saved CSV file.\n",
        "    - Prints the cleaned data in a table format without index.\n",
        "\n",
        "In summary, the code takes the raw NYPD shooting incident data, transforms the 'SEX' column to binary, selects specific columns, drops unnecessary columns, converts relevant columns to numeric, removes rows with null values, and saves the cleaned data to a new CSV file."
      ],
      "metadata": {
        "id": "BpqxChaowtyc"
      }
    },
    {
      "cell_type": "code",
      "source": [
        "from google.colab import drive\n",
        "drive.mount('/content/drive')"
      ],
      "metadata": {
        "id": "Jp5DAUM_wG2B"
      },
      "execution_count": null,
      "outputs": []
    }
  ],
  "metadata": {
    "colab": {
      "provenance": [],
      "include_colab_link": true
    },
    "kernelspec": {
      "display_name": "Python 3",
      "name": "python3"
    },
    "language_info": {
      "name": "python"
    }
  },
  "nbformat": 4,
  "nbformat_minor": 0
}